{
 "cells": [
  {
   "cell_type": "code",
   "execution_count": null,
   "id": "71a69622-9fd0-4ff0-90bf-14b040abe1d0",
   "metadata": {},
   "outputs": [],
   "source": [
    "- 1 and 2 never be consider as prime number\n",
    "- apply for loop here 3 to n\n",
    "-     condition"
   ]
  },
  {
   "cell_type": "code",
   "execution_count": 2,
   "id": "2a00665a-c770-41bd-b2c6-5a36340a6fb1",
   "metadata": {},
   "outputs": [
    {
     "name": "stdout",
     "output_type": "stream",
     "text": [
      "The total number of evens are: 3\n",
      "The total number of odds are: 2\n"
     ]
    }
   ],
   "source": [
    "#wap also a user take 5 random numbers \n",
    "#provide me the count\n",
    "# in that how many are even and how many or odd\n",
    "import random\n",
    "even_count=0\n",
    "odd_count=0\n",
    "for i in range(5):\n",
    "    num=random.randint(1,100)\n",
    "    if num%2==0:\n",
    "        even_count+=1\n",
    "    else:\n",
    "        odd_count+=1\n",
    "\n",
    "print(\"The total number of evens are:\",even_count)\n",
    "print(\"The total number of odds are:\",odd_count)\n",
    "    "
   ]
  },
  {
   "cell_type": "code",
   "execution_count": 2,
   "id": "c19f9434-b97d-4526-a207-6f1cc2403782",
   "metadata": {},
   "outputs": [
    {
     "name": "stdout",
     "output_type": "stream",
     "text": [
      "8 is even \n",
      "86 is even \n",
      "74 is even \n",
      "77 is an odd\n",
      "95 is an odd\n",
      "168\n",
      "172\n"
     ]
    }
   ],
   "source": [
    "#wap sum of the odd numbers and even number\n",
    "import random\n",
    "even_sum=0\n",
    "odd_sum=0\n",
    "for i in range(5):\n",
    "    num=random.randint(1,100)\n",
    "    if num%2==0:\n",
    "        print(f\"{num} is even \")\n",
    "        even_sum+=num\n",
    "    else:\n",
    "        print(f\"{num} is an odd\")\n",
    "        odd_sum+=num\n",
    "print(even_sum)\n",
    "print(odd_sum)\n",
    "    "
   ]
  },
  {
   "cell_type": "markdown",
   "id": "63078ca1-e67f-4e9a-8d9e-8af5a33c2950",
   "metadata": {},
   "source": [
    "**in operator**\n",
    "- for loop iteration possible with two ways\n",
    "  - one is range\n",
    "  - second one is in \n",
    "- range is math related,so it takes numbers\n",
    "- in directly access with characters\n",
    "- in the naive way in operator only for strings"
   ]
  },
  {
   "cell_type": "code",
   "execution_count": 4,
   "id": "7aedfbd7-a73b-4daa-b7ae-144d60364683",
   "metadata": {},
   "outputs": [
    {
     "data": {
      "text/plain": [
       "False"
      ]
     },
     "execution_count": 4,
     "metadata": {},
     "output_type": "execute_result"
    }
   ],
   "source": [
    "str1='python'\n",
    "'p' in str1 # is 'p' available in str1\n",
    "'y' in str1\n",
    "'P' in str1"
   ]
  },
  {
   "cell_type": "code",
   "execution_count": 7,
   "id": "b26d0d43-8f6c-4afa-99e7-ba2cf41f413d",
   "metadata": {},
   "outputs": [
    {
     "data": {
      "text/plain": [
       "True"
      ]
     },
     "execution_count": 7,
     "metadata": {},
     "output_type": "execute_result"
    }
   ],
   "source": [
    "str1='python'\n",
    "'p' in str1 # is 'p' available in str1\n",
    "'y' in str1\n",
    "'t' in str1\n",
    "'h' in str1\n",
    "'o' in str1\n",
    "'n' in str1\n"
   ]
  },
  {
   "cell_type": "code",
   "execution_count": 8,
   "id": "8c01173f-bef3-4ea8-bc06-340f575ba0bb",
   "metadata": {},
   "outputs": [
    {
     "name": "stdout",
     "output_type": "stream",
     "text": [
      "p\n",
      "y\n",
      "t\n",
      "h\n",
      "o\n",
      "n\n"
     ]
    }
   ],
   "source": [
    "for i in str1:\n",
    "    print(i)"
   ]
  },
  {
   "cell_type": "code",
   "execution_count": 9,
   "id": "039bd79f-d15b-41f5-92fa-804156606bcf",
   "metadata": {},
   "outputs": [
    {
     "ename": "TypeError",
     "evalue": "'str' object cannot be interpreted as an integer",
     "output_type": "error",
     "traceback": [
      "\u001b[1;31m---------------------------------------------------------------------------\u001b[0m",
      "\u001b[1;31mTypeError\u001b[0m                                 Traceback (most recent call last)",
      "Cell \u001b[1;32mIn[9], line 1\u001b[0m\n\u001b[1;32m----> 1\u001b[0m \u001b[38;5;28;01mfor\u001b[39;00m i \u001b[38;5;129;01min\u001b[39;00m \u001b[38;5;28mrange\u001b[39m(\u001b[38;5;124m'\u001b[39m\u001b[38;5;124mhello\u001b[39m\u001b[38;5;124m'\u001b[39m):\n\u001b[0;32m      2\u001b[0m     \u001b[38;5;28mprint\u001b[39m(i)\n",
      "\u001b[1;31mTypeError\u001b[0m: 'str' object cannot be interpreted as an integer"
     ]
    }
   ],
   "source": [
    "for i in range('hello'):\n",
    "    print(i)"
   ]
  },
  {
   "cell_type": "code",
   "execution_count": 12,
   "id": "91ca4fb5-2a2d-4f77-93d6-7573150c120b",
   "metadata": {},
   "outputs": [
    {
     "name": "stdout",
     "output_type": "stream",
     "text": [
      "hello\n",
      "hello\n",
      "hello\n",
      "hello\n",
      "hello\n",
      "hello\n"
     ]
    }
   ],
   "source": [
    "for i in str1:\n",
    "    print('hello')"
   ]
  },
  {
   "cell_type": "code",
   "execution_count": 14,
   "id": "b749899e-c720-459b-9ef3-7d59a54cf9b5",
   "metadata": {},
   "outputs": [
    {
     "name": "stdout",
     "output_type": "stream",
     "text": [
      "h\n",
      "e\n",
      "l\n",
      "l\n",
      "o\n"
     ]
    }
   ],
   "source": [
    "for i in ('hello'):\n",
    "    print(i)"
   ]
  },
  {
   "cell_type": "markdown",
   "id": "6a41de41-2f0d-4483-9517-c507883f1bd3",
   "metadata": {},
   "source": [
    "- range and eval will not process strings english characters\n",
    "- range is a data type\n",
    "- eval is not a data type"
   ]
  },
  {
   "cell_type": "code",
   "execution_count": 17,
   "id": "a7e9e9b1-9dc6-4e23-bfd2-9ef0a7422109",
   "metadata": {},
   "outputs": [
    {
     "data": {
      "text/plain": [
       "False"
      ]
     },
     "execution_count": 17,
     "metadata": {},
     "output_type": "execute_result"
    }
   ],
   "source": [
    "'a'<'A'"
   ]
  },
  {
   "cell_type": "code",
   "execution_count": 18,
   "id": "3e2cb312-dea7-4b04-8283-bbcccf03f1aa",
   "metadata": {},
   "outputs": [
    {
     "data": {
      "text/plain": [
       "True"
      ]
     },
     "execution_count": 18,
     "metadata": {},
     "output_type": "execute_result"
    }
   ],
   "source": [
    "'a'>'A'\n",
    "\n"
   ]
  },
  {
   "cell_type": "code",
   "execution_count": 19,
   "id": "ab3302d1-ba6b-471f-bb40-23c57f00e310",
   "metadata": {},
   "outputs": [
    {
     "data": {
      "text/plain": [
       "False"
      ]
     },
     "execution_count": 19,
     "metadata": {},
     "output_type": "execute_result"
    }
   ],
   "source": [
    "'p'>'y'"
   ]
  },
  {
   "cell_type": "markdown",
   "id": "b5d39406-f7ab-4648-8234-6d414256b1c8",
   "metadata": {},
   "source": [
    "**ASCII**\n",
    "-American standard code for information Interchange\n",
    "- every character symbol associated with a number\n",
    "- 'a' : 97 'A': 65\n",
    "- 'b' : 98 'b': 66"
   ]
  },
  {
   "cell_type": "markdown",
   "id": "5d9c38aa-65a7-4db7-9527-9302eeab7ec1",
   "metadata": {},
   "source": [
    "**ord- chr**\n",
    "- ord and chr are in-bulit functions\n",
    "- ord will give the ascii number of charcter\n",
    "- chr will give the character of a number"
   ]
  },
  {
   "cell_type": "code",
   "execution_count": 20,
   "id": "536164d0-5c5a-4ebb-afe4-05a1ee602a75",
   "metadata": {},
   "outputs": [
    {
     "data": {
      "text/plain": [
       "(65, 97)"
      ]
     },
     "execution_count": 20,
     "metadata": {},
     "output_type": "execute_result"
    }
   ],
   "source": [
    "ord('A'), ord('a')"
   ]
  },
  {
   "cell_type": "code",
   "execution_count": 22,
   "id": "edb44f8e-4479-4078-9b26-be9c69e23336",
   "metadata": {},
   "outputs": [
    {
     "data": {
      "text/plain": [
       "True"
      ]
     },
     "execution_count": 22,
     "metadata": {},
     "output_type": "execute_result"
    }
   ],
   "source": [
    "'a'>'A' #97>65"
   ]
  },
  {
   "cell_type": "code",
   "execution_count": 23,
   "id": "0c59c518-d28d-4665-b740-f3e758b51652",
   "metadata": {},
   "outputs": [
    {
     "data": {
      "text/plain": [
       "(97, 65)"
      ]
     },
     "execution_count": 23,
     "metadata": {},
     "output_type": "execute_result"
    }
   ],
   "source": [
    "ord('a'), ord('A')"
   ]
  },
  {
   "cell_type": "code",
   "execution_count": 24,
   "id": "66a6a78b-e1d3-4e7c-9a3f-4805db539bbf",
   "metadata": {},
   "outputs": [
    {
     "data": {
      "text/plain": [
       "('A', 'a')"
      ]
     },
     "execution_count": 24,
     "metadata": {},
     "output_type": "execute_result"
    }
   ],
   "source": [
    "chr(65), chr(97)"
   ]
  },
  {
   "cell_type": "code",
   "execution_count": 25,
   "id": "5015c1e6-f050-4509-9eae-aa2c9ffc3e0b",
   "metadata": {},
   "outputs": [
    {
     "data": {
      "text/plain": [
       "('a', 'A')"
      ]
     },
     "execution_count": 25,
     "metadata": {},
     "output_type": "execute_result"
    }
   ],
   "source": [
    "chr(97),chr(65)"
   ]
  },
  {
   "cell_type": "code",
   "execution_count": 26,
   "id": "a3aa5923-e40a-4830-a9eb-b4f3b5da7d91",
   "metadata": {},
   "outputs": [
    {
     "data": {
      "text/plain": [
       "'A'"
      ]
     },
     "execution_count": 26,
     "metadata": {},
     "output_type": "execute_result"
    }
   ],
   "source": [
    "chr(65)"
   ]
  },
  {
   "cell_type": "code",
   "execution_count": 27,
   "id": "36858603-a270-45eb-87fb-531e8f976a49",
   "metadata": {},
   "outputs": [
    {
     "data": {
      "text/plain": [
       "'a'"
      ]
     },
     "execution_count": 27,
     "metadata": {},
     "output_type": "execute_result"
    }
   ],
   "source": [
    "chr(97)"
   ]
  },
  {
   "cell_type": "markdown",
   "id": "0f82ffab-bb59-4bc5-8d5f-27e662912f60",
   "metadata": {},
   "source": [
    "**tsk-1**\n",
    "- print all ascii numbers of A to Z using for loop\n"
   ]
  },
  {
   "cell_type": "code",
   "execution_count": 28,
   "id": "580c4f0f-3e83-4d1a-acb6-a1c9c7995123",
   "metadata": {},
   "outputs": [],
   "source": [
    "#Package name:string\n",
    "#import string\n",
    "#dir string\n",
    "#find out the method which method will give capitalletters\n",
    "import string"
   ]
  },
  {
   "cell_type": "code",
   "execution_count": 29,
   "id": "f9149480-73c0-437b-be27-712365db4d2e",
   "metadata": {},
   "outputs": [
    {
     "data": {
      "text/plain": [
       "['Formatter',\n",
       " 'Template',\n",
       " '_ChainMap',\n",
       " '__all__',\n",
       " '__builtins__',\n",
       " '__cached__',\n",
       " '__doc__',\n",
       " '__file__',\n",
       " '__loader__',\n",
       " '__name__',\n",
       " '__package__',\n",
       " '__spec__',\n",
       " '_re',\n",
       " '_sentinel_dict',\n",
       " '_string',\n",
       " 'ascii_letters',\n",
       " 'ascii_lowercase',\n",
       " 'ascii_uppercase',\n",
       " 'capwords',\n",
       " 'digits',\n",
       " 'hexdigits',\n",
       " 'octdigits',\n",
       " 'printable',\n",
       " 'punctuation',\n",
       " 'whitespace']"
      ]
     },
     "execution_count": 29,
     "metadata": {},
     "output_type": "execute_result"
    }
   ],
   "source": [
    "dir(string)"
   ]
  },
  {
   "cell_type": "code",
   "execution_count": 30,
   "id": "55c474bf-7960-49c4-9ca2-4410f3fb8b5a",
   "metadata": {},
   "outputs": [
    {
     "data": {
      "text/plain": [
       "'abcdefghijklmnopqrstuvwxyz'"
      ]
     },
     "execution_count": 30,
     "metadata": {},
     "output_type": "execute_result"
    }
   ],
   "source": [
    "string.ascii_lowercase"
   ]
  },
  {
   "cell_type": "code",
   "execution_count": 32,
   "id": "861d57f2-1cc5-4035-932c-33c4c7ada044",
   "metadata": {},
   "outputs": [
    {
     "data": {
      "text/plain": [
       "'ABCDEFGHIJKLMNOPQRSTUVWXYZ'"
      ]
     },
     "execution_count": 32,
     "metadata": {},
     "output_type": "execute_result"
    }
   ],
   "source": [
    "string.ascii_uppercase"
   ]
  },
  {
   "cell_type": "code",
   "execution_count": 33,
   "id": "9a65c476-895f-4a20-902e-c6cb95b34013",
   "metadata": {},
   "outputs": [
    {
     "name": "stdout",
     "output_type": "stream",
     "text": [
      "a:97\n",
      "b:98\n",
      "c:99\n",
      "d:100\n",
      "e:101\n",
      "f:102\n",
      "g:103\n",
      "h:104\n",
      "i:105\n",
      "j:106\n",
      "k:107\n",
      "l:108\n",
      "m:109\n",
      "n:110\n",
      "o:111\n",
      "p:112\n",
      "q:113\n",
      "r:114\n",
      "s:115\n",
      "t:116\n",
      "u:117\n",
      "v:118\n",
      "w:119\n",
      "x:120\n",
      "y:121\n",
      "z:122\n"
     ]
    }
   ],
   "source": [
    "for i in string.ascii_lowercase:\n",
    "    print(f\"{i}:{ord(i)}\")"
   ]
  },
  {
   "cell_type": "code",
   "execution_count": 34,
   "id": "1722f793-48fa-4f1b-b6c2-c75771fdbcf6",
   "metadata": {},
   "outputs": [
    {
     "name": "stdout",
     "output_type": "stream",
     "text": [
      "!:33\":34#:35$:36%:37&:38':39(:40):41*:42+:43,:44-:45.:46/:47::58;:59<:60=:61>:62?:63@:64[:91\\:92]:93^:94_:95`:96{:123|:124}:125~:126"
     ]
    }
   ],
   "source": [
    "for i in string.punctuation:\n",
    "    print(f\"{i}:{ord(i)}\",end='')"
   ]
  },
  {
   "cell_type": "code",
   "execution_count": 35,
   "id": "3b97a14f-6e0c-48bd-b1aa-2ff07bd2350c",
   "metadata": {},
   "outputs": [
    {
     "name": "stdout",
     "output_type": "stream",
     "text": [
      "A:65B:66C:67D:68E:69F:70G:71H:72I:73J:74K:75L:76M:77N:78O:79P:80Q:81R:82S:83T:84U:85V:86W:87X:88Y:89Z:90"
     ]
    }
   ],
   "source": [
    "for i in string.ascii_uppercase:\n",
    "    print(f\"{i}:{ord(i)}\",end='')"
   ]
  },
  {
   "cell_type": "code",
   "execution_count": 36,
   "id": "6f01ce28-f721-4822-a270-146d1020605a",
   "metadata": {},
   "outputs": [
    {
     "name": "stdout",
     "output_type": "stream",
     "text": [
      "161:¡162:¢163:£164:¤165:¥166:¦167:§168:¨169:©170:ª171:«172:¬173:­174:®175:¯176:°177:±178:²179:³180:´181:µ182:¶183:·184:¸185:¹186:º187:»188:¼189:½190:¾191:¿192:À193:Á194:Â195:Ã196:Ä197:Å198:Æ199:Ç"
     ]
    }
   ],
   "source": [
    "for i in range(161,200):\n",
    "    print(f\"{i}:{chr(i)}\",end='')"
   ]
  },
  {
   "cell_type": "code",
   "execution_count": 37,
   "id": "927d539d-7a60-4968-ac0f-518ccb52abf1",
   "metadata": {},
   "outputs": [
    {
     "name": "stdout",
     "output_type": "stream",
     "text": [
      "2303:ࣿ2304:ऀ2305:ँ2306:ं2307:ः2308:ऄ2309:अ2310:आ2311:इ2312:ई2313:उ2314:ऊ2315:ऋ2316:ऌ2317:ऍ2318:ऎ2319:ए2320:ऐ2321:ऑ2322:ऒ2323:ओ2324:औ2325:क2326:ख2327:ग2328:घ2329:ङ2330:च2331:छ2332:ज2333:झ2334:ञ2335:ट2336:ठ2337:ड2338:ढ2339:ण2340:त2341:थ2342:द2343:ध2344:न2345:ऩ2346:प2347:फ2348:ब2349:भ2350:म2351:य2352:र2353:ऱ2354:ल2355:ळ2356:ऴ2357:व2358:श2359:ष2360:स2361:ह2362:ऺ2363:ऻ2364:़2365:ऽ2366:ा2367:ि2368:ी2369:ु2370:ू2371:ृ2372:ॄ2373:ॅ2374:ॆ2375:े2376:ै2377:ॉ2378:ॊ2379:ो2380:ौ2381:्2382:ॎ2383:ॏ2384:ॐ2385:॑2386:॒2387:॓2388:॔2389:ॕ2390:ॖ2391:ॗ2392:क़2393:ख़2394:ग़2395:ज़2396:ड़2397:ढ़2398:फ़2399:य़2400:ॠ2401:ॡ2402:ॢ2403:ॣ2404:।2405:॥2406:०2407:१2408:२2409:३2410:४2411:५2412:६2413:७2414:८2415:९2416:॰2417:ॱ2418:ॲ2419:ॳ2420:ॴ2421:ॵ2422:ॶ2423:ॷ2424:ॸ2425:ॹ2426:ॺ2427:ॻ2428:ॼ2429:ॽ2430:ॾ2431:ॿ2432:ঀ2433:ঁ2434:ং2435:ঃ2436:঄2437:অ2438:আ2439:ই2440:ঈ2441:উ2442:ঊ2443:ঋ2444:ঌ2445:঍2446:঎2447:এ2448:ঐ2449:঑2450:঒2451:ও2452:ঔ2453:ক2454:খ2455:গ2456:ঘ2457:ঙ2458:চ2459:ছ2460:জ2461:ঝ2462:ঞ2463:ট2464:ঠ2465:ড2466:ঢ2467:ণ2468:ত2469:থ2470:দ2471:ধ2472:ন2473:঩2474:প2475:ফ2476:ব2477:ভ2478:ম2479:য2480:র2481:঱2482:ল2483:঳2484:঴2485:঵2486:শ2487:ষ2488:স2489:হ2490:঺2491:঻2492:়2493:ঽ2494:া2495:ি2496:ী2497:ু2498:ূ2499:ৃ2500:ৄ2501:৅2502:৆2503:ে2504:ৈ2505:৉2506:৊2507:ো2508:ৌ2509:্2510:ৎ2511:৏2512:৐2513:৑2514:৒2515:৓2516:৔2517:৕2518:৖2519:ৗ2520:৘2521:৙2522:৚2523:৛2524:ড়2525:ঢ়2526:৞2527:য়2528:ৠ2529:ৡ2530:ৢ2531:ৣ2532:৤2533:৥2534:০2535:১2536:২2537:৩2538:৪2539:৫2540:৬2541:৭2542:৮2543:৯2544:ৰ2545:ৱ2546:৲2547:৳2548:৴2549:৵2550:৶2551:৷2552:৸2553:৹2554:৺2555:৻2556:ৼ2557:৽2558:৾2559:৿2560:਀2561:ਁ2562:ਂ2563:ਃ2564:਄2565:ਅ2566:ਆ2567:ਇ2568:ਈ2569:ਉ2570:ਊ2571:਋2572:਌2573:਍2574:਎2575:ਏ2576:ਐ2577:਑2578:਒2579:ਓ2580:ਔ2581:ਕ2582:ਖ2583:ਗ2584:ਘ2585:ਙ2586:ਚ2587:ਛ2588:ਜ2589:ਝ2590:ਞ2591:ਟ2592:ਠ2593:ਡ2594:ਢ2595:ਣ2596:ਤ2597:ਥ2598:ਦ2599:ਧ"
     ]
    }
   ],
   "source": [
    "for i in range(2303,2600):\n",
    "    print(f\"{i}:{chr(i)}\",end='')"
   ]
  },
  {
   "cell_type": "code",
   "execution_count": 38,
   "id": "6372d9a4-a3c0-4cd1-b67d-dcf5fa775c42",
   "metadata": {},
   "outputs": [
    {
     "name": "stdout",
     "output_type": "stream",
     "text": [
      "3077:అ3078:ఆ3079:ఇ3080:ఈ3081:ఉ3082:ఊ3083:ఋ3084:ఌ3085:఍3086:ఎ3087:ఏ3088:ఐ3089:఑3090:ఒ3091:ఓ3092:ఔ3093:క3094:ఖ3095:గ3096:ఘ3097:ఙ3098:చ3099:ఛ3100:జ3101:ఝ3102:ఞ3103:ట3104:ఠ3105:డ3106:ఢ3107:ణ3108:త3109:థ3110:ద3111:ధ3112:న3113:఩3114:ప3115:ఫ3116:బ3117:భ3118:మ3119:య3120:ర3121:ఱ3122:ల3123:ళ3124:ఴ3125:వ3126:శ3127:ష3128:స3129:హ3130:఺3131:఻3132:఼3133:ఽ3134:ా3135:ి3136:ీ3137:ు3138:ూ3139:ృ3140:ౄ3141:౅3142:ె3143:ే3144:ై3145:౉3146:ొ3147:ో3148:ౌ3149:్3150:౎3151:౏3152:౐3153:౑3154:౒3155:౓3156:౔3157:ౕ3158:ౖ3159:౗3160:ౘ3161:ౙ3162:ౚ3163:౛3164:౜3165:ౝ3166:౞3167:౟3168:ౠ3169:ౡ3170:ౢ3171:ౣ3172:౤3173:౥3174:౦3175:౧3176:౨3177:౩3178:౪3179:౫3180:౬3181:౭3182:౮3183:౯3184:౰3185:౱3186:౲3187:౳3188:౴3189:౵3190:౶3191:౷3192:౸3193:౹3194:౺3195:౻3196:౼3197:౽3198:౾3199:౿3200:ಀ3201:ಁ3202:ಂ3203:ಃ3204:಄3205:ಅ3206:ಆ3207:ಇ3208:ಈ3209:ಉ3210:ಊ3211:ಋ3212:ಌ3213:಍3214:ಎ3215:ಏ3216:ಐ3217:಑3218:ಒ3219:ಓ3220:ಔ3221:ಕ3222:ಖ3223:ಗ3224:ಘ3225:ಙ3226:ಚ3227:ಛ3228:ಜ3229:ಝ3230:ಞ3231:ಟ3232:ಠ3233:ಡ3234:ಢ3235:ಣ3236:ತ3237:ಥ3238:ದ3239:ಧ3240:ನ3241:಩3242:ಪ3243:ಫ3244:ಬ3245:ಭ3246:ಮ3247:ಯ3248:ರ3249:ಱ3250:ಲ3251:ಳ3252:಴3253:ವ3254:ಶ3255:ಷ3256:ಸ3257:ಹ3258:಺3259:಻3260:಼3261:ಽ3262:ಾ3263:ಿ3264:ೀ3265:ು3266:ೂ3267:ೃ3268:ೄ3269:೅3270:ೆ3271:ೇ3272:ೈ3273:೉3274:ೊ3275:ೋ3276:ೌ3277:್3278:೎3279:೏3280:೐3281:೑3282:೒3283:೓3284:೔3285:ೕ3286:ೖ3287:೗3288:೘3289:೙3290:೚3291:೛3292:೜3293:ೝ3294:ೞ3295:೟3296:ೠ3297:ೡ3298:ೢ3299:ೣ3300:೤3301:೥3302:೦3303:೧3304:೨3305:೩3306:೪3307:೫3308:೬3309:೭3310:೮3311:೯3312:೰3313:ೱ3314:ೲ3315:ೳ3316:೴3317:೵3318:೶3319:೷3320:೸3321:೹3322:೺3323:೻3324:೼3325:೽3326:೾3327:೿3328:ഀ3329:ഁ3330:ം3331:ഃ3332:ഄ"
     ]
    }
   ],
   "source": [
    "for i in range(3077,3333):\n",
    "    print(f\"{i}:{chr(i)}\",end='')"
   ]
  },
  {
   "cell_type": "code",
   "execution_count": 39,
   "id": "4a69e3c1-a2aa-40d1-9c99-6b424099622f",
   "metadata": {},
   "outputs": [
    {
     "name": "stdout",
     "output_type": "stream",
     "text": [
      "9758:☞9759:☟9760:☠9761:☡9762:☢9763:☣9764:☤9765:☥9766:☦9767:☧9768:☨9769:☩9770:☪9771:☫9772:☬9773:☭9774:☮9775:☯9776:☰9777:☱9778:☲9779:☳9780:☴9781:☵9782:☶9783:☷9784:☸9785:☹9786:☺9787:☻9788:☼9789:☽9790:☾9791:☿9792:♀9793:♁9794:♂9795:♃9796:♄9797:♅9798:♆9799:♇9800:♈9801:♉9802:♊9803:♋9804:♌9805:♍9806:♎9807:♏9808:♐9809:♑9810:♒9811:♓9812:♔9813:♕9814:♖9815:♗9816:♘9817:♙9818:♚9819:♛9820:♜9821:♝9822:♞9823:♟9824:♠9825:♡9826:♢9827:♣9828:♤9829:♥9830:♦9831:♧9832:♨9833:♩9834:♪9835:♫9836:♬9837:♭9838:♮9839:♯9840:♰9841:♱9842:♲9843:♳9844:♴9845:♵9846:♶9847:♷9848:♸9849:♹9850:♺9851:♻9852:♼9853:♽9854:♾9855:♿9856:⚀9857:⚁9858:⚂9859:⚃9860:⚄9861:⚅9862:⚆9863:⚇9864:⚈9865:⚉9866:⚊9867:⚋9868:⚌9869:⚍9870:⚎9871:⚏9872:⚐9873:⚑9874:⚒9875:⚓9876:⚔9877:⚕9878:⚖9879:⚗9880:⚘9881:⚙9882:⚚9883:⚛9884:⚜9885:⚝9886:⚞9887:⚟9888:⚠9889:⚡9890:⚢9891:⚣9892:⚤9893:⚥9894:⚦9895:⚧9896:⚨9897:⚩9898:⚪9899:⚫9900:⚬9901:⚭9902:⚮9903:⚯9904:⚰9905:⚱9906:⚲9907:⚳9908:⚴9909:⚵9910:⚶9911:⚷9912:⚸9913:⚹9914:⚺9915:⚻9916:⚼9917:⚽9918:⚾9919:⚿9920:⛀9921:⛁9922:⛂9923:⛃9924:⛄9925:⛅9926:⛆9927:⛇9928:⛈9929:⛉9930:⛊9931:⛋9932:⛌9933:⛍9934:⛎9935:⛏9936:⛐9937:⛑9938:⛒9939:⛓9940:⛔9941:⛕9942:⛖9943:⛗9944:⛘9945:⛙9946:⛚9947:⛛9948:⛜9949:⛝9950:⛞9951:⛟9952:⛠9953:⛡9954:⛢9955:⛣9956:⛤9957:⛥9958:⛦9959:⛧9960:⛨9961:⛩9962:⛪9963:⛫9964:⛬9965:⛭9966:⛮9967:⛯9968:⛰9969:⛱9970:⛲9971:⛳9972:⛴9973:⛵9974:⛶9975:⛷9976:⛸9977:⛹9978:⛺9979:⛻9980:⛼9981:⛽9982:⛾9983:⛿9984:✀9985:✁9986:✂9987:✃9988:✄9989:✅9990:✆9991:✇9992:✈9993:✉9994:✊9995:✋9996:✌9997:✍9998:✎9999:✏"
     ]
    }
   ],
   "source": [
    "for i in range(9758,10000):\n",
    "    print(f\"{i}:{chr(i)}\",end='')"
   ]
  },
  {
   "cell_type": "code",
   "execution_count": null,
   "id": "42fff6e3-7b46-43f9-9e33-0607b7339f22",
   "metadata": {},
   "outputs": [],
   "source": []
  }
 ],
 "metadata": {
  "kernelspec": {
   "display_name": "Python 3 (ipykernel)",
   "language": "python",
   "name": "python3"
  },
  "language_info": {
   "codemirror_mode": {
    "name": "ipython",
    "version": 3
   },
   "file_extension": ".py",
   "mimetype": "text/x-python",
   "name": "python",
   "nbconvert_exporter": "python",
   "pygments_lexer": "ipython3",
   "version": "3.11.7"
  }
 },
 "nbformat": 4,
 "nbformat_minor": 5
}
