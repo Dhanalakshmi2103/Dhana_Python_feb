{
 "cells": [
  {
   "cell_type": "markdown",
   "id": "cf2b5f55-d30d-46a2-8eed-1da42b4da951",
   "metadata": {},
   "source": [
    "**slice**"
   ]
  },
  {
   "cell_type": "markdown",
   "id": "0652d3f4-364c-43b2-bd66-fbc712b9e0fe",
   "metadata": {},
   "source": [
    "- slice means part of string \n",
    "- it is exactily same like range operations start,stop,step\n",
    "- str[start:stop:step]"
   ]
  },
  {
   "cell_type": "code",
   "execution_count": null,
   "id": "c9b2fb55-762a-40c8-8851-93c142f4b026",
   "metadata": {},
   "outputs": [],
   "source": [
    "s='hai how are you'\n",
    "-15  -14  -13   -12  -11  -10  -9  -8  -7  \n",
    "h     a     i    h  o  w  a  r  e  y  o   u \n",
    "0    1  2   3  4  5  6  7  8  9  10  11"
   ]
  },
  {
   "cell_type": "markdown",
   "id": "7368becc-b1a7-484c-bbdf-587355170a7f",
   "metadata": {},
   "source": [
    "**string[start:]**\n",
    "- start means start value only\n",
    "- increament by one only\n",
    "- nothing mentioned the stop position means till last"
   ]
  },
  {
   "cell_type": "code",
   "execution_count": null,
   "id": "afc895a7-2698-44d6-891c-cb0313b31786",
   "metadata": {},
   "outputs": [],
   "source": []
  },
  {
   "cell_type": "code",
   "execution_count": 3,
   "id": "eda2e5d2-0a1f-490c-9a80-e2ddab8451b9",
   "metadata": {},
   "outputs": [
    {
     "data": {
      "text/plain": [
       "'i how are you'"
      ]
     },
     "execution_count": 3,
     "metadata": {},
     "output_type": "execute_result"
    }
   ],
   "source": [
    "s='hai how are you'\n",
    "s[2:]"
   ]
  },
  {
   "cell_type": "markdown",
   "id": "60d40fc9-76f5-40f4-b40e-00f558dbc0ec",
   "metadata": {},
   "source": [
    "**string[start:stop]**\n",
    "\n",
    "- start means start value only\n",
    "- increament by one only\n",
    "- last=stop-1\n",
    "- string[2:10]\n",
    "   -star=2\n",
    "   -last=10-1=19\n"
   ]
  },
  {
   "cell_type": "code",
   "execution_count": 4,
   "id": "7d1be287-87dc-4b14-9f2b-0b23d9b0e518",
   "metadata": {},
   "outputs": [
    {
     "data": {
      "text/plain": [
       "'i how ar'"
      ]
     },
     "execution_count": 4,
     "metadata": {},
     "output_type": "execute_result"
    }
   ],
   "source": [
    "s='hai how are you'\n",
    "s[2:10]"
   ]
  },
  {
   "cell_type": "code",
   "execution_count": 5,
   "id": "66a70dd9-9abe-4c44-a6f5-c7f9bd3c1a54",
   "metadata": {},
   "outputs": [
    {
     "data": {
      "text/plain": [
       "'ai how are'"
      ]
     },
     "execution_count": 5,
     "metadata": {},
     "output_type": "execute_result"
    }
   ],
   "source": [
    "s[-14:-4]"
   ]
  },
  {
   "cell_type": "code",
   "execution_count": 6,
   "id": "e2c7705c-4486-4f75-bdfb-b46d56ba370c",
   "metadata": {},
   "outputs": [
    {
     "data": {
      "text/plain": [
       "'i how are y'"
      ]
     },
     "execution_count": 6,
     "metadata": {},
     "output_type": "execute_result"
    }
   ],
   "source": [
    "s[2:-2]\n",
    "#star=2\n",
    "#stop=2-1=-3"
   ]
  },
  {
   "cell_type": "code",
   "execution_count": 7,
   "id": "3025e0a3-b6b4-425a-b532-6b362dd41bff",
   "metadata": {},
   "outputs": [
    {
     "data": {
      "text/plain": [
       "''"
      ]
     },
     "execution_count": 7,
     "metadata": {},
     "output_type": "execute_result"
    }
   ],
   "source": [
    "s[10:2]"
   ]
  },
  {
   "cell_type": "code",
   "execution_count": 8,
   "id": "01d8a326-b5be-49bf-87cc-fb28ab48b2d3",
   "metadata": {},
   "outputs": [],
   "source": [
    "for i in range(10,2):\n",
    "    print(i)"
   ]
  },
  {
   "cell_type": "code",
   "execution_count": 10,
   "id": "433c222b-5e37-41bd-a5d8-332fb323611e",
   "metadata": {},
   "outputs": [
    {
     "data": {
      "text/plain": [
       "''"
      ]
     },
     "execution_count": 10,
     "metadata": {},
     "output_type": "execute_result"
    }
   ],
   "source": [
    "s[-4:-14]"
   ]
  },
  {
   "cell_type": "code",
   "execution_count": 11,
   "id": "a192a4b8-22a0-49f0-8b50-5c58e2603466",
   "metadata": {},
   "outputs": [
    {
     "data": {
      "text/plain": [
       "'i how are y'"
      ]
     },
     "execution_count": 11,
     "metadata": {},
     "output_type": "execute_result"
    }
   ],
   "source": [
    "s[2:-2]"
   ]
  },
  {
   "cell_type": "code",
   "execution_count": 12,
   "id": "3e215352-e9ac-4e0f-a2a4-fd22a2323d32",
   "metadata": {},
   "outputs": [],
   "source": [
    "for i in range(2,-2):\n",
    "    print(i)"
   ]
  },
  {
   "cell_type": "markdown",
   "id": "d251b4d0-429c-49b2-bb95-32c556e664e8",
   "metadata": {},
   "source": [
    "**string[start:]**\n",
    "- start means start value only\n",
    "- increament by one only\n",
    "- step means how much gap\n",
    "    - positive value indicates positive direction\n",
    "      - last=stop-1\n",
    "    - negative value indicates negative direction\n",
    "       - last=stop+1\n"
   ]
  },
  {
   "cell_type": "code",
   "execution_count": 13,
   "id": "07b86bde-6b77-4752-ba84-bb8e57a79cf8",
   "metadata": {},
   "outputs": [
    {
     "data": {
      "text/plain": [
       "'ihwae'"
      ]
     },
     "execution_count": 13,
     "metadata": {},
     "output_type": "execute_result"
    }
   ],
   "source": [
    "s='hai how are you'\n",
    "s[2:12:2]\n",
    "#start=2\n",
    "#step=2\n",
    "#last=12-1=11 "
   ]
  },
  {
   "cell_type": "code",
   "execution_count": 14,
   "id": "a81c02dd-46b7-41c6-8382-2bfc1ab94e6a",
   "metadata": {},
   "outputs": [
    {
     "data": {
      "text/plain": [
       "''"
      ]
     },
     "execution_count": 14,
     "metadata": {},
     "output_type": "execute_result"
    }
   ],
   "source": [
    "s[2:-2:-2]"
   ]
  },
  {
   "cell_type": "code",
   "execution_count": 15,
   "id": "57b71528-d49a-49f0-aff6-dfbf6cbb5c58",
   "metadata": {},
   "outputs": [
    {
     "data": {
      "text/plain": [
       "' wry'"
      ]
     },
     "execution_count": 15,
     "metadata": {},
     "output_type": "execute_result"
    }
   ],
   "source": [
    "s='hai how are you'\n",
    "s[3:13:3]\n"
   ]
  },
  {
   "cell_type": "code",
   "execution_count": 16,
   "id": "584694a6-0e38-442e-b200-2697724c18ff",
   "metadata": {},
   "outputs": [
    {
     "data": {
      "text/plain": [
       "''"
      ]
     },
     "execution_count": 16,
     "metadata": {},
     "output_type": "execute_result"
    }
   ],
   "source": [
    "s[3:13:-3]"
   ]
  },
  {
   "cell_type": "code",
   "execution_count": 27,
   "id": "89fb01ac-efd9-418f-982c-c7a26a6c1f55",
   "metadata": {},
   "outputs": [
    {
     "data": {
      "text/plain": [
       "' '"
      ]
     },
     "execution_count": 27,
     "metadata": {},
     "output_type": "execute_result"
    }
   ],
   "source": [
    "s='hai how are you'\n",
    "s[3:-13:-3]"
   ]
  },
  {
   "cell_type": "code",
   "execution_count": 28,
   "id": "17e7555d-7040-43fb-95bf-8a5681a58368",
   "metadata": {},
   "outputs": [
    {
     "data": {
      "text/plain": [
       "''"
      ]
     },
     "execution_count": 28,
     "metadata": {},
     "output_type": "execute_result"
    }
   ],
   "source": [
    "s='hai how are you'\n",
    "s[3:-13:3]"
   ]
  },
  {
   "cell_type": "code",
   "execution_count": 21,
   "id": "d95ed509-88d6-4c24-a43b-323bbe1693c8",
   "metadata": {},
   "outputs": [
    {
     "data": {
      "text/plain": [
       "'y'"
      ]
     },
     "execution_count": 21,
     "metadata": {},
     "output_type": "execute_result"
    }
   ],
   "source": [
    "s[-3:13:3]"
   ]
  },
  {
   "cell_type": "code",
   "execution_count": 22,
   "id": "237391c2-41bb-4d9b-9207-b60f9fe67c39",
   "metadata": {},
   "outputs": [
    {
     "data": {
      "text/plain": [
       "''"
      ]
     },
     "execution_count": 22,
     "metadata": {},
     "output_type": "execute_result"
    }
   ],
   "source": [
    "s[-3:13:-3]"
   ]
  },
  {
   "cell_type": "code",
   "execution_count": 23,
   "id": "40c87a9d-6f84-46cf-a25e-315f3561323c",
   "metadata": {},
   "outputs": [
    {
     "data": {
      "text/plain": [
       "''"
      ]
     },
     "execution_count": 23,
     "metadata": {},
     "output_type": "execute_result"
    }
   ],
   "source": [
    "s[-3:13:-3]"
   ]
  },
  {
   "cell_type": "code",
   "execution_count": 30,
   "id": "7f851bb7-8a33-4dfc-9fac-ba46ce6bd214",
   "metadata": {},
   "outputs": [
    {
     "data": {
      "text/plain": [
       "''"
      ]
     },
     "execution_count": 30,
     "metadata": {},
     "output_type": "execute_result"
    }
   ],
   "source": [
    "s[13:-3:3]"
   ]
  },
  {
   "cell_type": "code",
   "execution_count": 1,
   "id": "870f489d-4146-454e-9afc-265c9be0344e",
   "metadata": {},
   "outputs": [
    {
     "ename": "NameError",
     "evalue": "name 's' is not defined",
     "output_type": "error",
     "traceback": [
      "\u001b[1;31m---------------------------------------------------------------------------\u001b[0m",
      "\u001b[1;31mNameError\u001b[0m                                 Traceback (most recent call last)",
      "Cell \u001b[1;32mIn[1], line 1\u001b[0m\n\u001b[1;32m----> 1\u001b[0m s[\u001b[38;5;241m13\u001b[39m:\u001b[38;5;241m-\u001b[39m\u001b[38;5;241m3\u001b[39m:\u001b[38;5;241m3\u001b[39m]\n",
      "\u001b[1;31mNameError\u001b[0m: name 's' is not defined"
     ]
    }
   ],
   "source": [
    "s[13:-3:3]"
   ]
  },
  {
   "cell_type": "code",
   "execution_count": 2,
   "id": "eb15373a-359c-4d5e-9ec3-6155ec506757",
   "metadata": {},
   "outputs": [
    {
     "ename": "NameError",
     "evalue": "name 'S' is not defined",
     "output_type": "error",
     "traceback": [
      "\u001b[1;31m---------------------------------------------------------------------------\u001b[0m",
      "\u001b[1;31mNameError\u001b[0m                                 Traceback (most recent call last)",
      "Cell \u001b[1;32mIn[2], line 1\u001b[0m\n\u001b[1;32m----> 1\u001b[0m S[\u001b[38;5;241m13\u001b[39m:\u001b[38;5;241m-\u001b[39m\u001b[38;5;241m3\u001b[39m:\u001b[38;5;241m-\u001b[39m\u001b[38;5;241m3\u001b[39m]\n",
      "\u001b[1;31mNameError\u001b[0m: name 'S' is not defined"
     ]
    }
   ],
   "source": [
    "S[13:-3:-3]"
   ]
  },
  {
   "cell_type": "code",
   "execution_count": 3,
   "id": "3520b753-58fc-48d0-946b-133bdd508534",
   "metadata": {},
   "outputs": [
    {
     "ename": "NameError",
     "evalue": "name 'S' is not defined",
     "output_type": "error",
     "traceback": [
      "\u001b[1;31m---------------------------------------------------------------------------\u001b[0m",
      "\u001b[1;31mNameError\u001b[0m                                 Traceback (most recent call last)",
      "Cell \u001b[1;32mIn[3], line 1\u001b[0m\n\u001b[1;32m----> 1\u001b[0m S[\u001b[38;5;241m13\u001b[39m:\u001b[38;5;241m3\u001b[39m:\u001b[38;5;241m3\u001b[39m]\n",
      "\u001b[1;31mNameError\u001b[0m: name 'S' is not defined"
     ]
    }
   ],
   "source": [
    "S[13:3:3]"
   ]
  },
  {
   "cell_type": "markdown",
   "id": "66e3f14e-d5b1-41e3-b027-c4139ddb5567",
   "metadata": {},
   "source": [
    "**Cncatenation**\n",
    "- take two string\n",
    "- apply + - / *\n",
    "- tell me which works and which not works"
   ]
  },
  {
   "cell_type": "code",
   "execution_count": 5,
   "id": "36cf7970-0ffe-4089-a671-bdd5fb3ec28a",
   "metadata": {},
   "outputs": [
    {
     "data": {
      "text/plain": [
       "'hellohai'"
      ]
     },
     "execution_count": 5,
     "metadata": {},
     "output_type": "execute_result"
    }
   ],
   "source": [
    "string1='hello'\n",
    "string2='hai'\n",
    "string1+string2"
   ]
  },
  {
   "cell_type": "code",
   "execution_count": 6,
   "id": "32e00cd1-ae26-4c6c-b6e2-6f275bdfda8b",
   "metadata": {},
   "outputs": [
    {
     "ename": "TypeError",
     "evalue": "unsupported operand type(s) for -: 'str' and 'str'",
     "output_type": "error",
     "traceback": [
      "\u001b[1;31m---------------------------------------------------------------------------\u001b[0m",
      "\u001b[1;31mTypeError\u001b[0m                                 Traceback (most recent call last)",
      "Cell \u001b[1;32mIn[6], line 1\u001b[0m\n\u001b[1;32m----> 1\u001b[0m string1\u001b[38;5;241m-\u001b[39mstring2\n",
      "\u001b[1;31mTypeError\u001b[0m: unsupported operand type(s) for -: 'str' and 'str'"
     ]
    }
   ],
   "source": [
    "string1-string2"
   ]
  },
  {
   "cell_type": "code",
   "execution_count": 7,
   "id": "ca033cfa-a77d-43b6-a476-c0474a420bad",
   "metadata": {},
   "outputs": [
    {
     "ename": "TypeError",
     "evalue": "unsupported operand type(s) for /: 'str' and 'str'",
     "output_type": "error",
     "traceback": [
      "\u001b[1;31m---------------------------------------------------------------------------\u001b[0m",
      "\u001b[1;31mTypeError\u001b[0m                                 Traceback (most recent call last)",
      "Cell \u001b[1;32mIn[7], line 1\u001b[0m\n\u001b[1;32m----> 1\u001b[0m string1\u001b[38;5;241m/\u001b[39mstring2\n",
      "\u001b[1;31mTypeError\u001b[0m: unsupported operand type(s) for /: 'str' and 'str'"
     ]
    }
   ],
   "source": [
    "string1/string2"
   ]
  },
  {
   "cell_type": "code",
   "execution_count": 8,
   "id": "d8c9debc-181b-4c32-8a20-fbdef8f6f5ae",
   "metadata": {},
   "outputs": [
    {
     "ename": "TypeError",
     "evalue": "can't multiply sequence by non-int of type 'str'",
     "output_type": "error",
     "traceback": [
      "\u001b[1;31m---------------------------------------------------------------------------\u001b[0m",
      "\u001b[1;31mTypeError\u001b[0m                                 Traceback (most recent call last)",
      "Cell \u001b[1;32mIn[8], line 1\u001b[0m\n\u001b[1;32m----> 1\u001b[0m string1\u001b[38;5;241m*\u001b[39mstring2\n",
      "\u001b[1;31mTypeError\u001b[0m: can't multiply sequence by non-int of type 'str'"
     ]
    }
   ],
   "source": [
    "string1*string2"
   ]
  },
  {
   "cell_type": "code",
   "execution_count": null,
   "id": "8942bba6-26be-4db6-a0a7-2c70ddb9609b",
   "metadata": {},
   "outputs": [],
   "source": [
    " unsupported operand type(s) for -: 'str' and 'str'\n",
    "unsupported operand type(s) for /: 'str' and 'str'\n",
    "* :can't multiply sequence by non-int of type 'str'\n"
   ]
  },
  {
   "cell_type": "markdown",
   "id": "85068a4a-3794-4870-828e-e935aba2b1b2",
   "metadata": {},
   "source": [
    "- subtaractin and division or never use \n",
    "- but u can use multipilcation by using a str with any integer"
   ]
  },
  {
   "cell_type": "code",
   "execution_count": 9,
   "id": "870aa5f1-7233-44eb-bd58-ccb2a2507543",
   "metadata": {},
   "outputs": [
    {
     "data": {
      "text/plain": [
       "'haihaihai'"
      ]
     },
     "execution_count": 9,
     "metadata": {},
     "output_type": "execute_result"
    }
   ],
   "source": [
    "str1='hai'\n",
    "str1*3"
   ]
  },
  {
   "cell_type": "code",
   "execution_count": 10,
   "id": "61d7425d-3917-4bf6-be0c-dbe5be573cdc",
   "metadata": {},
   "outputs": [
    {
     "ename": "SyntaxError",
     "evalue": "invalid syntax (2563897146.py, line 1)",
     "output_type": "error",
     "traceback": [
      "\u001b[1;36m  Cell \u001b[1;32mIn[10], line 1\u001b[1;36m\u001b[0m\n\u001b[1;33m    str1+str1+str1 ==== str1*1\u001b[0m\n\u001b[1;37m                     ^\u001b[0m\n\u001b[1;31mSyntaxError\u001b[0m\u001b[1;31m:\u001b[0m invalid syntax\n"
     ]
    }
   ],
   "source": [
    "str1+str1+str1 ==== str1*1"
   ]
  },
  {
   "cell_type": "code",
   "execution_count": null,
   "id": "f2e89b41-c6b0-40c6-8234-c7fbeff7a1a3",
   "metadata": {},
   "outputs": [],
   "source": [
    "- intialization\n",
    "- len\n",
    "- type\n",
    "- max\n",
    "- min"
   ]
  },
  {
   "cell_type": "markdown",
   "id": "18492ce5-8acc-4d9b-9ce9-662ba60b06e3",
   "metadata": {},
   "source": [
    "**string methods**"
   ]
  },
  {
   "cell_type": "code",
   "execution_count": null,
   "id": "b3019096-177c-4632-ba18-a4fb2a9b63c6",
   "metadata": {},
   "outputs": [],
   "source": [
    "#import the pacakge\n",
    "#dir (package)\n",
    "str1="
   ]
  },
  {
   "cell_type": "markdown",
   "id": "80a62016-c712-4204-b21b-219d8a3a7598",
   "metadata": {},
   "source": [
    "**upper**"
   ]
  },
  {
   "cell_type": "markdown",
   "id": "134a5d6f-fd37-4e6d-811b-85abbeff8c71",
   "metadata": {},
   "source": [
    "- upper is a string  method\n",
    "- will convert string into upper case"
   ]
  },
  {
   "cell_type": "code",
   "execution_count": 13,
   "id": "c6d49379-60b5-455d-9e7e-d6fb381a3c9e",
   "metadata": {},
   "outputs": [
    {
     "data": {
      "text/plain": [
       "'HELLO'"
      ]
     },
     "execution_count": 13,
     "metadata": {},
     "output_type": "execute_result"
    }
   ],
   "source": [
    "str1='hello'\n",
    "str1.upper()\n",
    "#upper(str1)"
   ]
  },
  {
   "cell_type": "code",
   "execution_count": 14,
   "id": "27d1d9c5-138d-45a1-a4e9-be1db10b2c46",
   "metadata": {},
   "outputs": [
    {
     "data": {
      "text/plain": [
       "<function str.upper()>"
      ]
     },
     "execution_count": 14,
     "metadata": {},
     "output_type": "execute_result"
    }
   ],
   "source": [
    "str1='hello'\n",
    "str1.upper"
   ]
  },
  {
   "cell_type": "markdown",
   "id": "cce604e9-add9-465b-a7bb-a6b418cdc76a",
   "metadata": {},
   "source": [
    "**lower**\n",
    "- lower\n",
    "- casefold\n",
    "- captilaize\n",
    "- center"
   ]
  },
  {
   "cell_type": "code",
   "execution_count": 15,
   "id": "5b7ff9f5-fcc0-4a98-8482-75dbea91be33",
   "metadata": {},
   "outputs": [
    {
     "data": {
      "text/plain": [
       "<function str.lower()>"
      ]
     },
     "execution_count": 15,
     "metadata": {},
     "output_type": "execute_result"
    }
   ],
   "source": [
    "str1='hello'\n",
    "str1.lower"
   ]
  },
  {
   "cell_type": "code",
   "execution_count": 16,
   "id": "37dbad97-533c-4e8b-8b34-ba1356b3f58b",
   "metadata": {},
   "outputs": [
    {
     "data": {
      "text/plain": [
       "'hello'"
      ]
     },
     "execution_count": 16,
     "metadata": {},
     "output_type": "execute_result"
    }
   ],
   "source": [
    "str1='hello'\n",
    "str1.lower()"
   ]
  },
  {
   "cell_type": "code",
   "execution_count": 17,
   "id": "0d6aa72e-1be8-4fc4-8646-ab54dcea66a1",
   "metadata": {},
   "outputs": [
    {
     "data": {
      "text/plain": [
       "'Hello'"
      ]
     },
     "execution_count": 17,
     "metadata": {},
     "output_type": "execute_result"
    }
   ],
   "source": [
    "str1='hello'\n",
    "str1.capitalize()"
   ]
  },
  {
   "cell_type": "code",
   "execution_count": 18,
   "id": "1b2b5c20-a4a9-426a-96ba-b946d9fd76ae",
   "metadata": {},
   "outputs": [
    {
     "ename": "TypeError",
     "evalue": "center expected at least 1 argument, got 0",
     "output_type": "error",
     "traceback": [
      "\u001b[1;31m---------------------------------------------------------------------------\u001b[0m",
      "\u001b[1;31mTypeError\u001b[0m                                 Traceback (most recent call last)",
      "Cell \u001b[1;32mIn[18], line 2\u001b[0m\n\u001b[0;32m      1\u001b[0m str1\u001b[38;5;241m=\u001b[39m\u001b[38;5;124m'\u001b[39m\u001b[38;5;124mhello\u001b[39m\u001b[38;5;124m'\u001b[39m\n\u001b[1;32m----> 2\u001b[0m str1\u001b[38;5;241m.\u001b[39mcenter()\n",
      "\u001b[1;31mTypeError\u001b[0m: center expected at least 1 argument, got 0"
     ]
    }
   ],
   "source": [
    "str1='hello'\n",
    "str1.center()"
   ]
  },
  {
   "cell_type": "code",
   "execution_count": 19,
   "id": "b90a99d9-935e-4962-b7da-5ea0250dcb6d",
   "metadata": {},
   "outputs": [
    {
     "data": {
      "text/plain": [
       "'hello'"
      ]
     },
     "execution_count": 19,
     "metadata": {},
     "output_type": "execute_result"
    }
   ],
   "source": [
    "str1='hello'\n",
    "str1.casefold()"
   ]
  },
  {
   "cell_type": "code",
   "execution_count": 21,
   "id": "4f47faa5-90c8-4a54-acb8-50321d207a5c",
   "metadata": {},
   "outputs": [
    {
     "data": {
      "text/plain": [
       "'hello'"
      ]
     },
     "execution_count": 21,
     "metadata": {},
     "output_type": "execute_result"
    }
   ],
   "source": [
    "s1='HELLO'\n",
    "s1.lower()"
   ]
  },
  {
   "cell_type": "markdown",
   "id": "30677a85-5b62-44a7-9374-80765dbe99d2",
   "metadata": {},
   "source": [
    "- lower and casefold will give caseless means lower case"
   ]
  },
  {
   "cell_type": "code",
   "execution_count": 24,
   "id": "9a23f5e4-8baf-40d2-8783-9616286884aa",
   "metadata": {},
   "outputs": [
    {
     "data": {
      "text/plain": [
       "'  hello   '"
      ]
     },
     "execution_count": 24,
     "metadata": {},
     "output_type": "execute_result"
    }
   ],
   "source": [
    "s1='hello'\n",
    "s1.center(10)"
   ]
  },
  {
   "cell_type": "code",
   "execution_count": 29,
   "id": "87d70c5c-fe23-4aa7-836e-a223cd098852",
   "metadata": {},
   "outputs": [
    {
     "data": {
      "text/plain": [
       "10"
      ]
     },
     "execution_count": 29,
     "metadata": {},
     "output_type": "execute_result"
    }
   ],
   "source": [
    "s1='hello'\n",
    "s2=s1.center(10,'-')\n",
    "len(s2)"
   ]
  },
  {
   "cell_type": "code",
   "execution_count": 30,
   "id": "59484f73-e898-42a7-b2d4-2a780afd3ceb",
   "metadata": {},
   "outputs": [
    {
     "data": {
      "text/plain": [
       "'--hello---'"
      ]
     },
     "execution_count": 30,
     "metadata": {},
     "output_type": "execute_result"
    }
   ],
   "source": [
    "s2"
   ]
  },
  {
   "cell_type": "code",
   "execution_count": 31,
   "id": "a81ba1ec-667b-4994-8c93-4b1b4064555b",
   "metadata": {},
   "outputs": [
    {
     "data": {
      "text/plain": [
       "'**gmail***'"
      ]
     },
     "execution_count": 31,
     "metadata": {},
     "output_type": "execute_result"
    }
   ],
   "source": [
    "s1='gmail'\n",
    "s1.center(10,'*')"
   ]
  },
  {
   "cell_type": "markdown",
   "id": "4f51fa3b-6601-43b8-a431-2f8e49ea03aa",
   "metadata": {},
   "source": [
    "**Title**"
   ]
  },
  {
   "cell_type": "code",
   "execution_count": 32,
   "id": "35a7dec4-608b-4f4b-9f09-b0887445ce56",
   "metadata": {},
   "outputs": [
    {
     "data": {
      "text/plain": [
       "'Hello How Are You'"
      ]
     },
     "execution_count": 32,
     "metadata": {},
     "output_type": "execute_result"
    }
   ],
   "source": [
    "s='hello how are you'\n",
    "s.title\n",
    "#captilize the difference with\n",
    "#capitalize and upper"
   ]
  },
  {
   "cell_type": "markdown",
   "id": "b145e5fe-01d3-4d0e-9dd3-cd3fd62efaa9",
   "metadata": {},
   "source": [
    "**count**\n"
   ]
  },
  {
   "cell_type": "code",
   "execution_count": 4,
   "id": "e89f2684-2d5a-4d97-b1b6-9e55f9ecdff5",
   "metadata": {},
   "outputs": [
    {
     "name": "stdout",
     "output_type": "stream",
     "text": [
      "2\n"
     ]
    }
   ],
   "source": [
    "str='hello hai how are you'\n",
    "count=0\n",
    "for i in str:\n",
    "    if i=='a':\n",
    "        count=count+1\n",
    "\n",
    "print(count)"
   ]
  },
  {
   "cell_type": "code",
   "execution_count": 6,
   "id": "fb1dde19-b0fd-4889-978f-58fae03ce5e8",
   "metadata": {},
   "outputs": [
    {
     "data": {
      "text/plain": [
       "2"
      ]
     },
     "execution_count": 6,
     "metadata": {},
     "output_type": "execute_result"
    }
   ],
   "source": [
    "str1='hello hai how are you'\n",
    "str1.count('a')"
   ]
  },
  {
   "cell_type": "code",
   "execution_count": 8,
   "id": "05e7023c-db0f-4389-aac8-a2fa4ee4f7b5",
   "metadata": {},
   "outputs": [
    {
     "data": {
      "text/plain": [
       "3"
      ]
     },
     "execution_count": 8,
     "metadata": {},
     "output_type": "execute_result"
    }
   ],
   "source": [
    "str1='ola ola ola'\n",
    "str1.count('o')"
   ]
  },
  {
   "cell_type": "code",
   "execution_count": 9,
   "id": "d3512494-9bc2-4ddb-afdf-d4211ac43f66",
   "metadata": {},
   "outputs": [
    {
     "data": {
      "text/plain": [
       "1"
      ]
     },
     "execution_count": 9,
     "metadata": {},
     "output_type": "execute_result"
    }
   ],
   "source": [
    "str1='ola ola ola'\n",
    "str1.count('o')\n",
    "str1.count(str1)"
   ]
  },
  {
   "cell_type": "code",
   "execution_count": 10,
   "id": "4d1ca1ee-05f9-46f9-ba2e-0eca5e5d6c8d",
   "metadata": {},
   "outputs": [
    {
     "data": {
      "text/plain": [
       "0"
      ]
     },
     "execution_count": 10,
     "metadata": {},
     "output_type": "execute_result"
    }
   ],
   "source": [
    "str1.count('uber')"
   ]
  }
 ],
 "metadata": {
  "kernelspec": {
   "display_name": "Python 3 (ipykernel)",
   "language": "python",
   "name": "python3"
  },
  "language_info": {
   "codemirror_mode": {
    "name": "ipython",
    "version": 3
   },
   "file_extension": ".py",
   "mimetype": "text/x-python",
   "name": "python",
   "nbconvert_exporter": "python",
   "pygments_lexer": "ipython3",
   "version": "3.11.7"
  }
 },
 "nbformat": 4,
 "nbformat_minor": 5
}
