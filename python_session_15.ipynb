{
 "cells": [
  {
   "cell_type": "code",
   "execution_count": null,
   "id": "a7b06c7b-246d-4ee6-8e35-0720f101540a",
   "metadata": {},
   "outputs": [],
   "source": [
    "**list**\n",
    "methods"
   ]
  },
  {
   "cell_type": "code",
   "execution_count": 3,
   "id": "d14fc2e9-4033-44f7-bf53-309a533b83f1",
   "metadata": {},
   "outputs": [
    {
     "data": {
      "text/plain": [
       "[1, 2, 3, 4, 5]"
      ]
     },
     "execution_count": 3,
     "metadata": {},
     "output_type": "execute_result"
    }
   ],
   "source": [
    "list1=[1,2,3,4,5]\n",
    "list1"
   ]
  },
  {
   "cell_type": "code",
   "execution_count": 1,
   "id": "eba7b6d3-53cb-481f-be5f-896de6f66591",
   "metadata": {},
   "outputs": [
    {
     "data": {
      "text/plain": [
       "[1, 2, 3, 'A', 'B', 'C']"
      ]
     },
     "execution_count": 1,
     "metadata": {},
     "output_type": "execute_result"
    }
   ],
   "source": [
    "list3=[1,2,3,'A','B','C']\n",
    "list3\n"
   ]
  },
  {
   "cell_type": "code",
   "execution_count": 2,
   "id": "b9c100e9-2fd9-4c6f-a46c-91d95d14f32a",
   "metadata": {},
   "outputs": [
    {
     "data": {
      "text/plain": [
       "['A', 'B', 'C', 'D']"
      ]
     },
     "execution_count": 2,
     "metadata": {},
     "output_type": "execute_result"
    }
   ],
   "source": [
    "list2=['A','B','C','D']\n",
    "list2"
   ]
  },
  {
   "cell_type": "code",
   "execution_count": 4,
   "id": "7f9a0436-25d1-49ef-95f4-77d5956ac9b5",
   "metadata": {},
   "outputs": [
    {
     "data": {
      "text/plain": [
       "[1, 2, 'Apple', '10.5', 1.5, True, False, (20+30j)]"
      ]
     },
     "execution_count": 4,
     "metadata": {},
     "output_type": "execute_result"
    }
   ],
   "source": [
    "list4=[1,2,'Apple','10.5',1.5,True,False,20+30j]\n",
    "list4"
   ]
  },
  {
   "cell_type": "code",
   "execution_count": 5,
   "id": "8979efe4-7d5d-4fad-934a-3e2f178f3daf",
   "metadata": {},
   "outputs": [
    {
     "data": {
      "text/plain": [
       "[10, 10, 10]"
      ]
     },
     "execution_count": 5,
     "metadata": {},
     "output_type": "execute_result"
    }
   ],
   "source": [
    "list5=[10,10,10]\n",
    "list5"
   ]
  },
  {
   "cell_type": "code",
   "execution_count": 7,
   "id": "8e49b195-2e3c-49d5-828d-483c30281c62",
   "metadata": {},
   "outputs": [
    {
     "data": {
      "text/plain": [
       "[1, 2, 3, 'A', 'B', 'C']"
      ]
     },
     "execution_count": 7,
     "metadata": {},
     "output_type": "execute_result"
    }
   ],
   "source": [
    "list6=[1,2,3,'A','B','C']\n",
    "list6"
   ]
  },
  {
   "cell_type": "code",
   "execution_count": 8,
   "id": "13c71e42-8cf7-4dc3-948d-858ad04aacac",
   "metadata": {},
   "outputs": [
    {
     "data": {
      "text/plain": [
       "[]"
      ]
     },
     "execution_count": 8,
     "metadata": {},
     "output_type": "execute_result"
    }
   ],
   "source": [
    "list7=[ ]\n",
    "list7"
   ]
  },
  {
   "cell_type": "code",
   "execution_count": 10,
   "id": "415be4e9-f745-486c-8907-0a7237e84449",
   "metadata": {},
   "outputs": [
    {
     "data": {
      "text/plain": [
       "[[[]]]"
      ]
     },
     "execution_count": 10,
     "metadata": {},
     "output_type": "execute_result"
    }
   ],
   "source": [
    "list8=[_]\n",
    "list8\n",
    "#separate empty list form\n",
    "#Dataframe:[]"
   ]
  },
  {
   "cell_type": "code",
   "execution_count": 11,
   "id": "b6f21c20-7462-42d2-99ed-476cf5add09f",
   "metadata": {},
   "outputs": [
    {
     "data": {
      "text/plain": [
       "list"
      ]
     },
     "execution_count": 11,
     "metadata": {},
     "output_type": "execute_result"
    }
   ],
   "source": [
    "type([''])"
   ]
  },
  {
   "cell_type": "code",
   "execution_count": 13,
   "id": "90bbcd7b-e740-413b-be87-15a362c8a04c",
   "metadata": {},
   "outputs": [],
   "source": [
    "list1=[1,2,3,4,5]\n",
    "list2=['A','B','C','D']\n",
    "list3=[1,2,3,'A','B','C']\n",
    "list4=[1,2,'Apple','10.5',1.5,True,False,20+30j]\n",
    "list5=[10,10,10]\n",
    "list6=[1,2,3,'A','B','C']\n",
    "list7=[ ]\n",
    "list8=[_]"
   ]
  },
  {
   "cell_type": "code",
   "execution_count": 12,
   "id": "3fe7f033-13c4-4be3-a9e6-45f037972e3d",
   "metadata": {},
   "outputs": [
    {
     "ename": "SyntaxError",
     "evalue": "unterminated string literal (detected at line 1) (3508995323.py, line 1)",
     "output_type": "error",
     "traceback": [
      "\u001b[1;36m  Cell \u001b[1;32mIn[12], line 1\u001b[1;36m\u001b[0m\n\u001b[1;33m    type([10'])\u001b[0m\n\u001b[1;37m            ^\u001b[0m\n\u001b[1;31mSyntaxError\u001b[0m\u001b[1;31m:\u001b[0m unterminated string literal (detected at line 1)\n"
     ]
    }
   ],
   "source": [
    "type([10'])"
   ]
  },
  {
   "cell_type": "markdown",
   "id": "30aaa992-b8b8-4e27-a886-f86cf7258799",
   "metadata": {},
   "source": [
    "- list is in square brackets\n",
    "- list can acces the array of elements\n",
    "- the value inside list we are calling as elements\n",
    "- list can be have any data type\n",
    "- list can have duplicates\n",
    "- list in list possible , because list also a data type "
   ]
  },
  {
   "cell_type": "code",
   "execution_count": 14,
   "id": "d285a086-12df-46eb-8f6a-324fae3f5994",
   "metadata": {},
   "outputs": [
    {
     "data": {
      "text/plain": [
       "[11, 23, 33, 44, 55]"
      ]
     },
     "execution_count": 14,
     "metadata": {},
     "output_type": "execute_result"
    }
   ],
   "source": [
    "list1=[11,23,33,44,55]\n",
    "list1"
   ]
  },
  {
   "cell_type": "code",
   "execution_count": 15,
   "id": "48f68d61-1703-485e-b2e5-a96e30855a78",
   "metadata": {},
   "outputs": [
    {
     "data": {
      "text/plain": [
       "['Apple', 'Banana', 'cherry']"
      ]
     },
     "execution_count": 15,
     "metadata": {},
     "output_type": "execute_result"
    }
   ],
   "source": [
    "list2=['Apple','Banana','cherry']\n",
    "list2"
   ]
  },
  {
   "cell_type": "code",
   "execution_count": 16,
   "id": "74b1fd5a-fb79-4853-8536-05fe3d1bdefc",
   "metadata": {},
   "outputs": [
    {
     "data": {
      "text/plain": [
       "[10, 20, 30, 'Apple', 'Banana']"
      ]
     },
     "execution_count": 16,
     "metadata": {},
     "output_type": "execute_result"
    }
   ],
   "source": [
    "list3=[10,20,30,'Apple','Banana']\n",
    "list3\n",
    "#len\n",
    "#max\n",
    "#min\n",
    "#reversed\n",
    "#sorted"
   ]
  },
  {
   "cell_type": "code",
   "execution_count": 19,
   "id": "0b8b8cd0-6bf5-4390-b943-73c28df361b9",
   "metadata": {},
   "outputs": [
    {
     "name": "stdout",
     "output_type": "stream",
     "text": [
      "5\n"
     ]
    }
   ],
   "source": [
    "list1=[11,23,33,44,55]\n",
    "print(len(list1))"
   ]
  },
  {
   "cell_type": "code",
   "execution_count": 20,
   "id": "9de12775-20fd-4dd7-85d4-e78b9414990e",
   "metadata": {},
   "outputs": [
    {
     "data": {
      "text/plain": [
       "3"
      ]
     },
     "execution_count": 20,
     "metadata": {},
     "output_type": "execute_result"
    }
   ],
   "source": [
    "len(list2)"
   ]
  },
  {
   "cell_type": "code",
   "execution_count": 21,
   "id": "c2609327-e0fc-49e0-a3c6-d1f1b9ac9b33",
   "metadata": {},
   "outputs": [
    {
     "data": {
      "text/plain": [
       "5"
      ]
     },
     "execution_count": 21,
     "metadata": {},
     "output_type": "execute_result"
    }
   ],
   "source": [
    "len(list3)"
   ]
  },
  {
   "cell_type": "code",
   "execution_count": 22,
   "id": "878ce652-1a45-45fe-bc3d-1b83afb54401",
   "metadata": {},
   "outputs": [
    {
     "data": {
      "text/plain": [
       "55"
      ]
     },
     "execution_count": 22,
     "metadata": {},
     "output_type": "execute_result"
    }
   ],
   "source": [
    "max(list1)"
   ]
  },
  {
   "cell_type": "code",
   "execution_count": 23,
   "id": "e01a97d3-753e-4b34-8b44-0fdf744ee72c",
   "metadata": {},
   "outputs": [
    {
     "data": {
      "text/plain": [
       "'cherry'"
      ]
     },
     "execution_count": 23,
     "metadata": {},
     "output_type": "execute_result"
    }
   ],
   "source": [
    "max(list2)"
   ]
  },
  {
   "cell_type": "code",
   "execution_count": 24,
   "id": "4f3abf58-f8aa-48de-97b7-deaedda2fd98",
   "metadata": {},
   "outputs": [
    {
     "ename": "TypeError",
     "evalue": "'>' not supported between instances of 'str' and 'int'",
     "output_type": "error",
     "traceback": [
      "\u001b[1;31m---------------------------------------------------------------------------\u001b[0m",
      "\u001b[1;31mTypeError\u001b[0m                                 Traceback (most recent call last)",
      "Cell \u001b[1;32mIn[24], line 1\u001b[0m\n\u001b[1;32m----> 1\u001b[0m \u001b[38;5;28mmax\u001b[39m(list3)\n",
      "\u001b[1;31mTypeError\u001b[0m: '>' not supported between instances of 'str' and 'int'"
     ]
    }
   ],
   "source": [
    "max(list3)"
   ]
  },
  {
   "cell_type": "code",
   "execution_count": 25,
   "id": "aeada6d4-2f00-4705-b36e-adab7f5aa227",
   "metadata": {},
   "outputs": [
    {
     "data": {
      "text/plain": [
       "11"
      ]
     },
     "execution_count": 25,
     "metadata": {},
     "output_type": "execute_result"
    }
   ],
   "source": [
    "min(list1)"
   ]
  },
  {
   "cell_type": "code",
   "execution_count": 26,
   "id": "9c51dbc8-5f88-4d14-a40d-a77d45b048cf",
   "metadata": {},
   "outputs": [
    {
     "data": {
      "text/plain": [
       "'Apple'"
      ]
     },
     "execution_count": 26,
     "metadata": {},
     "output_type": "execute_result"
    }
   ],
   "source": [
    "min(list2)"
   ]
  },
  {
   "cell_type": "code",
   "execution_count": 27,
   "id": "bf25f448-87b3-4b0b-a78c-a5ca1fa2ec22",
   "metadata": {},
   "outputs": [
    {
     "ename": "TypeError",
     "evalue": "'<' not supported between instances of 'str' and 'int'",
     "output_type": "error",
     "traceback": [
      "\u001b[1;31m---------------------------------------------------------------------------\u001b[0m",
      "\u001b[1;31mTypeError\u001b[0m                                 Traceback (most recent call last)",
      "Cell \u001b[1;32mIn[27], line 1\u001b[0m\n\u001b[1;32m----> 1\u001b[0m \u001b[38;5;28mmin\u001b[39m(list3)\n",
      "\u001b[1;31mTypeError\u001b[0m: '<' not supported between instances of 'str' and 'int'"
     ]
    }
   ],
   "source": [
    "min(list3)"
   ]
  },
  {
   "cell_type": "code",
   "execution_count": 28,
   "id": "a23018d4-f8f2-445a-ab6c-a96d3f7deb53",
   "metadata": {},
   "outputs": [
    {
     "data": {
      "text/plain": [
       "[11, 23, 33, 44, 55]"
      ]
     },
     "execution_count": 28,
     "metadata": {},
     "output_type": "execute_result"
    }
   ],
   "source": [
    "sorted(list1)"
   ]
  },
  {
   "cell_type": "code",
   "execution_count": 31,
   "id": "90f30c41-8b05-434f-a157-d4a1f8afc2fb",
   "metadata": {},
   "outputs": [
    {
     "ename": "TypeError",
     "evalue": "'reversed' is an invalid keyword argument for sort()",
     "output_type": "error",
     "traceback": [
      "\u001b[1;31m---------------------------------------------------------------------------\u001b[0m",
      "\u001b[1;31mTypeError\u001b[0m                                 Traceback (most recent call last)",
      "Cell \u001b[1;32mIn[31], line 1\u001b[0m\n\u001b[1;32m----> 1\u001b[0m \u001b[38;5;28msorted\u001b[39m(list3,\u001b[38;5;28mreversed\u001b[39m\u001b[38;5;241m=\u001b[39m\u001b[38;5;28;01mTrue\u001b[39;00m)\n",
      "\u001b[1;31mTypeError\u001b[0m: 'reversed' is an invalid keyword argument for sort()"
     ]
    }
   ],
   "source": [
    "sorted(list3,reversed=True)"
   ]
  },
  {
   "cell_type": "code",
   "execution_count": 33,
   "id": "073147c3-c64a-45c8-9b6b-2c0fbdf9edd7",
   "metadata": {},
   "outputs": [
    {
     "ename": "TypeError",
     "evalue": "'type' object is not reversible",
     "output_type": "error",
     "traceback": [
      "\u001b[1;31m---------------------------------------------------------------------------\u001b[0m",
      "\u001b[1;31mTypeError\u001b[0m                                 Traceback (most recent call last)",
      "Cell \u001b[1;32mIn[33], line 1\u001b[0m\n\u001b[1;32m----> 1\u001b[0m \u001b[38;5;28mreversed\u001b[39m(\u001b[38;5;28mlist\u001b[39m)\n",
      "\u001b[1;31mTypeError\u001b[0m: 'type' object is not reversible"
     ]
    }
   ],
   "source": [
    "reversed(list)"
   ]
  },
  {
   "cell_type": "code",
   "execution_count": 34,
   "id": "8dc034e6-82b9-4915-887c-466752339c31",
   "metadata": {},
   "outputs": [
    {
     "data": {
      "text/plain": [
       "[55, 44, 33, 23, 11]"
      ]
     },
     "execution_count": 34,
     "metadata": {},
     "output_type": "execute_result"
    }
   ],
   "source": [
    "list(reversed(list1))"
   ]
  },
  {
   "cell_type": "code",
   "execution_count": 35,
   "id": "5b246761-0963-4e79-bb37-185cfe9b3ed8",
   "metadata": {},
   "outputs": [
    {
     "data": {
      "text/plain": [
       "['Banana', 'Apple', 30, 20, 10]"
      ]
     },
     "execution_count": 35,
     "metadata": {},
     "output_type": "execute_result"
    }
   ],
   "source": [
    "list(reversed(list3))"
   ]
  },
  {
   "cell_type": "markdown",
   "id": "aa24ebfd-d0ba-45da-b45c-d9aa003e2273",
   "metadata": {},
   "source": [
    "**in**"
   ]
  },
  {
   "cell_type": "code",
   "execution_count": null,
   "id": "058f73e8-1344-4591-8c26-b2aa2e981304",
   "metadata": {},
   "outputs": [],
   "source": [
    "list object not callable\n",
    "restart and run"
   ]
  },
  {
   "cell_type": "code",
   "execution_count": 38,
   "id": "3a6bdeba-0710-46d2-aa6e-9ab81f10aba4",
   "metadata": {},
   "outputs": [
    {
     "data": {
      "text/plain": [
       "True"
      ]
     },
     "execution_count": 38,
     "metadata": {},
     "output_type": "execute_result"
    }
   ],
   "source": [
    "list1=[1,2,3,4,'A','B','C']\n",
    "1 in list1\n",
    "2 in list1\n",
    "3 in list1"
   ]
  },
  {
   "cell_type": "code",
   "execution_count": 40,
   "id": "d85e63f5-77d4-4f96-bb54-b45960601964",
   "metadata": {},
   "outputs": [
    {
     "name": "stdout",
     "output_type": "stream",
     "text": [
      "1 2 3 4 A B C "
     ]
    }
   ],
   "source": [
    "for i in list1:\n",
    "    print(i,end=' ')"
   ]
  },
  {
   "cell_type": "code",
   "execution_count": 42,
   "id": "1160f9fb-0e88-4b6c-a566-b47370518dcb",
   "metadata": {},
   "outputs": [
    {
     "name": "stdout",
     "output_type": "stream",
     "text": [
      "1 2 3 4 A B C "
     ]
    }
   ],
   "source": [
    "for i in '1234ABC':\n",
    "    print(i,end=' ')"
   ]
  },
  {
   "cell_type": "code",
   "execution_count": 43,
   "id": "02e95f00-2e31-420f-8f7f-b7c9155d9f21",
   "metadata": {},
   "outputs": [
    {
     "name": "stdout",
     "output_type": "stream",
     "text": [
      "1 , 2 , 3 , 4 , A , B , C "
     ]
    }
   ],
   "source": [
    "for i in '1,2,3,4,A,B,C':\n",
    "    print(i,end=' ')"
   ]
  },
  {
   "cell_type": "markdown",
   "id": "96ccbf07-f58b-4b8d-9223-81a871ecf834",
   "metadata": {},
   "source": [
    "**index**\n"
   ]
  },
  {
   "cell_type": "code",
   "execution_count": 51,
   "id": "22d48d06-34b9-402e-a5fd-d45ace24046b",
   "metadata": {},
   "outputs": [
    {
     "data": {
      "text/plain": [
       "44"
      ]
     },
     "execution_count": 51,
     "metadata": {},
     "output_type": "execute_result"
    }
   ],
   "source": [
    "list1=[11,22,33,44,'A','B','C']\n",
    "#-7  -6  -5  -4  -3   -2   -1\n",
    "#11  22  33  44  'A'  'B'  'C'\n",
    "#0   1   2   3    4    5    \n",
    "list1[0]\n",
    "list1[1]\n",
    "list1[3]"
   ]
  },
  {
   "cell_type": "code",
   "execution_count": 44,
   "id": "9fd7b1af-4759-4892-a479-1f6f2b851224",
   "metadata": {},
   "outputs": [
    {
     "data": {
      "text/plain": [
       "1"
      ]
     },
     "execution_count": 44,
     "metadata": {},
     "output_type": "execute_result"
    }
   ],
   "source": [
    "list1[0]"
   ]
  },
  {
   "cell_type": "code",
   "execution_count": 45,
   "id": "cf59ca5b-2cc5-4e52-94bb-36d3dc081d04",
   "metadata": {},
   "outputs": [
    {
     "data": {
      "text/plain": [
       "'Banana'"
      ]
     },
     "execution_count": 45,
     "metadata": {},
     "output_type": "execute_result"
    }
   ],
   "source": [
    "list2[1]"
   ]
  },
  {
   "cell_type": "markdown",
   "id": "eef6a945-2eeb-424e-a511-3c15985dad55",
   "metadata": {},
   "source": [
    "**slice**"
   ]
  },
  {
   "cell_type": "code",
   "execution_count": 52,
   "id": "47f56e62-ecf6-45af-9925-b67f03a57867",
   "metadata": {},
   "outputs": [
    {
     "data": {
      "text/plain": [
       "[1, 2, 3, 4, 5, 6, 7, 8, 9, 10, 'A', 'B', 'C']"
      ]
     },
     "execution_count": 52,
     "metadata": {},
     "output_type": "execute_result"
    }
   ],
   "source": [
    "l=[1,2,3,4,5,6,7,8,9,10,'A','B','C']\n",
    "l[::]"
   ]
  },
  {
   "cell_type": "code",
   "execution_count": 53,
   "id": "a045cdeb-fb15-40d5-99f2-66f12a279693",
   "metadata": {},
   "outputs": [
    {
     "data": {
      "text/plain": [
       "['C', 'B', 'A', 10, 9, 8, 7, 6, 5, 4, 3, 2, 1]"
      ]
     },
     "execution_count": 53,
     "metadata": {},
     "output_type": "execute_result"
    }
   ],
   "source": [
    "l[::-1]"
   ]
  },
  {
   "cell_type": "code",
   "execution_count": 54,
   "id": "cec39148-949b-4626-9947-e50e2095cf80",
   "metadata": {},
   "outputs": [
    {
     "data": {
      "text/plain": [
       "[3, 5, 7, 9, 'A']"
      ]
     },
     "execution_count": 54,
     "metadata": {},
     "output_type": "execute_result"
    }
   ],
   "source": [
    "l=[1,2,3,4,5,6,7,8,9,10,'A','B','C']\n",
    "l[2:12:2]"
   ]
  },
  {
   "cell_type": "code",
   "execution_count": 55,
   "id": "889d32c0-c7fa-412d-940d-69ccb927cbd9",
   "metadata": {},
   "outputs": [
    {
     "data": {
      "text/plain": [
       "[]"
      ]
     },
     "execution_count": 55,
     "metadata": {},
     "output_type": "execute_result"
    }
   ],
   "source": [
    "l[2:12:-2]"
   ]
  },
  {
   "cell_type": "code",
   "execution_count": 56,
   "id": "4abf59a3-34dc-4e0c-9104-5e6a6a0f5af7",
   "metadata": {},
   "outputs": [
    {
     "data": {
      "text/plain": [
       "[]"
      ]
     },
     "execution_count": 56,
     "metadata": {},
     "output_type": "execute_result"
    }
   ],
   "source": [
    "l[2:-12:2]"
   ]
  },
  {
   "cell_type": "code",
   "execution_count": 57,
   "id": "9309fbd5-a652-4429-b695-83571ef3e483",
   "metadata": {},
   "outputs": [
    {
     "data": {
      "text/plain": [
       "['B']"
      ]
     },
     "execution_count": 57,
     "metadata": {},
     "output_type": "execute_result"
    }
   ],
   "source": [
    "l[-2:12:2]"
   ]
  },
  {
   "cell_type": "code",
   "execution_count": 58,
   "id": "b6f4f851-fbb3-427f-b653-d718aa0b331e",
   "metadata": {},
   "outputs": [
    {
     "data": {
      "text/plain": [
       "[]"
      ]
     },
     "execution_count": 58,
     "metadata": {},
     "output_type": "execute_result"
    }
   ],
   "source": [
    "l[-2:12:-2]"
   ]
  },
  {
   "cell_type": "code",
   "execution_count": 59,
   "id": "f5adc689-08c8-4e00-93fb-8cf2a9661a98",
   "metadata": {},
   "outputs": [
    {
     "data": {
      "text/plain": [
       "['B', 10, 8, 6, 4]"
      ]
     },
     "execution_count": 59,
     "metadata": {},
     "output_type": "execute_result"
    }
   ],
   "source": [
    "l[-2:-12:-2]"
   ]
  },
  {
   "cell_type": "code",
   "execution_count": 60,
   "id": "81101f76-b34b-4c16-8c7e-82da978bc1d2",
   "metadata": {},
   "outputs": [
    {
     "data": {
      "text/plain": [
       "[]"
      ]
     },
     "execution_count": 60,
     "metadata": {},
     "output_type": "execute_result"
    }
   ],
   "source": [
    "l[12:2:2]"
   ]
  },
  {
   "cell_type": "code",
   "execution_count": 62,
   "id": "03ad3541-94ac-459c-8d77-171858ac5742",
   "metadata": {},
   "outputs": [
    {
     "data": {
      "text/plain": [
       "['C', 'A', 9, 7, 5]"
      ]
     },
     "execution_count": 62,
     "metadata": {},
     "output_type": "execute_result"
    }
   ],
   "source": [
    "l[12:2:-2]"
   ]
  },
  {
   "cell_type": "code",
   "execution_count": 63,
   "id": "ee9ca688-52b9-4792-83cc-1e2c1055df17",
   "metadata": {},
   "outputs": [
    {
     "data": {
      "text/plain": [
       "[]"
      ]
     },
     "execution_count": 63,
     "metadata": {},
     "output_type": "execute_result"
    }
   ],
   "source": [
    "l[12:-2:2]"
   ]
  },
  {
   "cell_type": "code",
   "execution_count": 64,
   "id": "549a3829-d980-46af-9c4c-4e5d39f7ef35",
   "metadata": {},
   "outputs": [
    {
     "data": {
      "text/plain": [
       "['C']"
      ]
     },
     "execution_count": 64,
     "metadata": {},
     "output_type": "execute_result"
    }
   ],
   "source": [
    "l[12:-2:-2]"
   ]
  },
  {
   "cell_type": "code",
   "execution_count": 65,
   "id": "12848b64-626e-4dfc-b43e-9831553ec16d",
   "metadata": {},
   "outputs": [
    {
     "data": {
      "text/plain": [
       "[2]"
      ]
     },
     "execution_count": 65,
     "metadata": {},
     "output_type": "execute_result"
    }
   ],
   "source": [
    "l[-12:2:2]"
   ]
  },
  {
   "cell_type": "code",
   "execution_count": 68,
   "id": "4901e08f-17af-47ad-b48b-0da537243e01",
   "metadata": {},
   "outputs": [
    {
     "data": {
      "text/plain": [
       "10"
      ]
     },
     "execution_count": 68,
     "metadata": {},
     "output_type": "execute_result"
    }
   ],
   "source": [
    "l=[[10]]\n",
    "l[0][0]"
   ]
  },
  {
   "cell_type": "code",
   "execution_count": 70,
   "id": "65440f04-e419-4d9f-b4d2-b0f0d0bfd536",
   "metadata": {},
   "outputs": [
    {
     "data": {
      "text/plain": [
       "[10]"
      ]
     },
     "execution_count": 70,
     "metadata": {},
     "output_type": "execute_result"
    }
   ],
   "source": [
    "l=[[10]]\n",
    "l[0]"
   ]
  },
  {
   "cell_type": "code",
   "execution_count": 72,
   "id": "959ad34c-16c1-4d5b-adab-15182e0ee803",
   "metadata": {},
   "outputs": [
    {
     "data": {
      "text/plain": [
       "4"
      ]
     },
     "execution_count": 72,
     "metadata": {},
     "output_type": "execute_result"
    }
   ],
   "source": [
    "l=[1,2,3,4,[10]]\n",
    "l[3]"
   ]
  },
  {
   "cell_type": "code",
   "execution_count": 3,
   "id": "46883ef5-dc2a-4f39-97b8-bca206e0de33",
   "metadata": {},
   "outputs": [
    {
     "data": {
      "text/plain": [
       "4"
      ]
     },
     "execution_count": 3,
     "metadata": {},
     "output_type": "execute_result"
    }
   ],
   "source": [
    "l=[1,2,3,[5,6,['Apple']]]\n",
    "len(l)"
   ]
  },
  {
   "cell_type": "code",
   "execution_count": 4,
   "id": "f4598eb4-87ff-48ba-a4f9-1eaf35f3a9ce",
   "metadata": {},
   "outputs": [
    {
     "data": {
      "text/plain": [
       "3"
      ]
     },
     "execution_count": 4,
     "metadata": {},
     "output_type": "execute_result"
    }
   ],
   "source": [
    "len(l[3])"
   ]
  },
  {
   "cell_type": "code",
   "execution_count": 5,
   "id": "90111dd8-68cf-4da5-bc94-b14482b98582",
   "metadata": {},
   "outputs": [
    {
     "data": {
      "text/plain": [
       "'Apple'"
      ]
     },
     "execution_count": 5,
     "metadata": {},
     "output_type": "execute_result"
    }
   ],
   "source": [
    "l[3][2][0]"
   ]
  },
  {
   "cell_type": "code",
   "execution_count": 7,
   "id": "17017024-9dfe-41be-ae7e-8f97b7529537",
   "metadata": {},
   "outputs": [
    {
     "data": {
      "text/plain": [
       "[1, 2, [3, 4, ['A'], ['B']]]"
      ]
     },
     "execution_count": 7,
     "metadata": {},
     "output_type": "execute_result"
    }
   ],
   "source": [
    "l=[1,2,[3,4,['A'],['B']]]\n",
    "l"
   ]
  },
  {
   "cell_type": "code",
   "execution_count": 8,
   "id": "0a82c391-ebb4-4b30-8e29-e5ea1f2f4e0e",
   "metadata": {},
   "outputs": [
    {
     "data": {
      "text/plain": [
       "3"
      ]
     },
     "execution_count": 8,
     "metadata": {},
     "output_type": "execute_result"
    }
   ],
   "source": [
    "len(l)"
   ]
  },
  {
   "cell_type": "code",
   "execution_count": 1,
   "id": "2f6e054e-1bfa-4751-a943-b4bb67cddbf7",
   "metadata": {},
   "outputs": [
    {
     "ename": "NameError",
     "evalue": "name 'l' is not defined",
     "output_type": "error",
     "traceback": [
      "\u001b[1;31m---------------------------------------------------------------------------\u001b[0m",
      "\u001b[1;31mNameError\u001b[0m                                 Traceback (most recent call last)",
      "Cell \u001b[1;32mIn[1], line 1\u001b[0m\n\u001b[1;32m----> 1\u001b[0m l(\u001b[38;5;241m2\u001b[39m)\n",
      "\u001b[1;31mNameError\u001b[0m: name 'l' is not defined"
     ]
    }
   ],
   "source": [
    "l(2)"
   ]
  },
  {
   "cell_type": "code",
   "execution_count": 2,
   "id": "24f8af8c-088b-42c0-9ca0-7d3973363462",
   "metadata": {},
   "outputs": [
    {
     "data": {
      "text/plain": [
       "[1, [2, [3, [4, [5, ['Banana']]]]]]"
      ]
     },
     "execution_count": 2,
     "metadata": {},
     "output_type": "execute_result"
    }
   ],
   "source": [
    "l=[1,[2,[3,[4,[5,['Banana']]]]]]\n",
    "l"
   ]
  },
  {
   "cell_type": "code",
   "execution_count": 12,
   "id": "6968a85c-915d-484b-a547-23017c3b9234",
   "metadata": {},
   "outputs": [
    {
     "data": {
      "text/plain": [
       "1"
      ]
     },
     "execution_count": 12,
     "metadata": {},
     "output_type": "execute_result"
    }
   ],
   "source": [
    "len(l[0])"
   ]
  },
  {
   "cell_type": "code",
   "execution_count": 11,
   "id": "f29e2fd8-a50b-4fbf-8396-fb3c65d5d455",
   "metadata": {},
   "outputs": [
    {
     "data": {
      "text/plain": [
       "'o'"
      ]
     },
     "execution_count": 11,
     "metadata": {},
     "output_type": "execute_result"
    }
   ],
   "source": [
    "l=[[[[[[['onion']]]]]]]\n",
    "l[0][0][0][0][0][0][0][0][0]"
   ]
  },
  {
   "cell_type": "code",
   "execution_count": 9,
   "id": "88e836b8-6a82-495e-a9e3-09b080eb91d4",
   "metadata": {},
   "outputs": [
    {
     "ename": "TypeError",
     "evalue": "'builtin_function_or_method' object is not subscriptable",
     "output_type": "error",
     "traceback": [
      "\u001b[1;31m---------------------------------------------------------------------------\u001b[0m",
      "\u001b[1;31mTypeError\u001b[0m                                 Traceback (most recent call last)",
      "Cell \u001b[1;32mIn[9], line 1\u001b[0m\n\u001b[1;32m----> 1\u001b[0m l(\u001b[38;5;28mlen\u001b[39m[\u001b[38;5;241m1\u001b[39m])\n",
      "\u001b[1;31mTypeError\u001b[0m: 'builtin_function_or_method' object is not subscriptable"
     ]
    }
   ],
   "source": [
    "l(len[1])"
   ]
  },
  {
   "cell_type": "code",
   "execution_count": null,
   "id": "871326f7-4ef0-476f-b59a-38d0223c4702",
   "metadata": {},
   "outputs": [],
   "source": []
  }
 ],
 "metadata": {
  "kernelspec": {
   "display_name": "Python 3 (ipykernel)",
   "language": "python",
   "name": "python3"
  },
  "language_info": {
   "codemirror_mode": {
    "name": "ipython",
    "version": 3
   },
   "file_extension": ".py",
   "mimetype": "text/x-python",
   "name": "python",
   "nbconvert_exporter": "python",
   "pygments_lexer": "ipython3",
   "version": "3.11.7"
  }
 },
 "nbformat": 4,
 "nbformat_minor": 5
}
